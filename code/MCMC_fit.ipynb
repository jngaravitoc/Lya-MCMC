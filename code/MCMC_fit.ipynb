{
 "cells": [
  {
   "cell_type": "code",
   "execution_count": 1,
   "metadata": {
    "collapsed": false
   },
   "outputs": [
    {
     "name": "stdout",
     "output_type": "stream",
     "text": [
      "Populating the interactive namespace from numpy and matplotlib\n"
     ]
    }
   ],
   "source": [
    "%pylab inline"
   ]
  },
  {
   "cell_type": "markdown",
   "metadata": {},
   "source": [
    "# Reading LARS02 data & model data from Dijkstra analytical solution"
   ]
  },
  {
   "cell_type": "code",
   "execution_count": 67,
   "metadata": {
    "collapsed": false
   },
   "outputs": [
    {
     "data": {
      "text/plain": [
       "[<matplotlib.lines.Line2D at 0x7f7b6e8b7790>]"
      ]
     },
     "execution_count": 67,
     "metadata": {},
     "output_type": "execute_result"
    },
    {
     "data": {
      "image/png": "[encoded data removed]",
      "text/plain": [
       "<matplotlib.figure.Figure at 0x7f7b6e8b75d0>"
      ]
     },
     "metadata": {},
     "output_type": "display_data"
    }
   ],
   "source": [
    "LARS = np.loadtxt(\"data/LARS2.txt\")\n",
    "x = LARS[:-17,0]\n",
    "y_0 = LARS[:-17,1]/1.1E2\n",
    "z = 0.029836\n",
    "c =  299792.458\n",
    "x_0 = x - c*z\n",
    "model = np.loadtxt(\"model.dat\")\n",
    "x_t = model[6:-5,0]*12\n",
    "y_t = model[6:-5,1]\n",
    "\n",
    "plot(x_0, y_0)\n",
    "plot(x_t, y_t)"
   ]
  },
  {
   "cell_type": "markdown",
   "metadata": {},
   "source": [
    "# Defining likelihood"
   ]
  },
  {
   "cell_type": "code",
   "execution_count": 102,
   "metadata": {
    "collapsed": true
   },
   "outputs": [],
   "source": [
    "def likelihood(y_obs, y_model):\n",
    "    chi_squared = (1.0/2.0)*sum((y_obs-y_model)**2)\n",
    "    return exp(-chi_squared)"
   ]
  },
  {
   "cell_type": "code",
   "execution_count": null,
   "metadata": {
    "collapsed": true
   },
   "outputs": [],
   "source": [
    "# Function that returns the analytical solution "
   ]
  },
  {
   "cell_type": "code",
   "execution_count": 99,
   "metadata": {
    "collapsed": false
   },
   "outputs": [
    {
     "name": "stdout",
     "output_type": "stream",
     "text": [
      "# 100000.000000 50.000000 0.785398\r\n"
     ]
    }
   ],
   "source": [
    "def my_model(tau, vel, angle):\n",
    "    f = open(\"values\", \"w\")\n",
    "    f.write((\"%f \\t %f \\t %f \\n\")% (tau, vel, angle))\n",
    "    f.close()\n",
    "    !./analytic_solution.x > model.dat\n",
    "    data_m = np.loadtxt(\"model.dat\")\n",
    "    x_teo = data_m[6:-5,0]*12\n",
    "    y_teo = data_m[6:-5,1]\n",
    "    return x_teo, y_teo\n",
    "x1, y1 = my_model(100000,50,45)"
   ]
  },
  {
   "cell_type": "markdown",
   "metadata": {},
   "source": [
    "# MCMC core"
   ]
  },
  {
   "cell_type": "code",
   "execution_count": 103,
   "metadata": {
    "collapsed": false
   },
   "outputs": [
    {
     "name": "stdout",
     "output_type": "stream",
     "text": [
      "# 100000.000000 50.000000 0.785398\n",
      "[ 100000.]\n",
      "[ 50.]\n",
      "[ 45.]\n",
      "[ 0.94558314]\n"
     ]
    }
   ],
   "source": [
    "tau_walk = empty((0)) #this is an empty list to keep all the steps\n",
    "vel_walk = empty((0))\n",
    "angle_walk = empty((0))\n",
    "l_walk = empty((0))\n",
    "\n",
    "tau_walk = append(tau_walk, 100000)\n",
    "vel_walk = append(vel_walk, 50)\n",
    "angle_walk = append(angle_walk, 45)\n",
    "\n",
    "x_init, y_init = my_model(tau_walk[0], vel_walk[0], angle_walk[0])\n",
    "l_walk = append(l_walk, likelihood(y_0, y_init))\n",
    "print tau_walk\n",
    "print vel_walk\n",
    "print angle_walk\n",
    "print l_walk"
   ]
  },
  {
   "cell_type": "code",
   "execution_count": 116,
   "metadata": {
    "collapsed": false
   },
   "outputs": [
    {
     "name": "stdout",
     "output_type": "stream",
     "text": [
      "# 100000.000000 50.000000 0.785398\n",
      "^C\n"
     ]
    },
    {
     "ename": "IndexError",
     "evalue": "too many indices",
     "output_type": "error",
     "traceback": [
      "\u001b[1;31m---------------------------------------------------------------------------\u001b[0m",
      "\u001b[1;31mIndexError\u001b[0m                                Traceback (most recent call last)",
      "\u001b[1;32m<ipython-input-116-ea982d9ed1c5>\u001b[0m in \u001b[0;36m<module>\u001b[1;34m()\u001b[0m\n\u001b[0;32m      6\u001b[0m \u001b[1;33m\u001b[0m\u001b[0m\n\u001b[0;32m      7\u001b[0m \u001b[1;33m\u001b[0m\u001b[0m\n\u001b[1;32m----> 8\u001b[1;33m     \u001b[0mx_init\u001b[0m\u001b[1;33m,\u001b[0m \u001b[0my_init\u001b[0m \u001b[1;33m=\u001b[0m \u001b[0mmy_model\u001b[0m\u001b[1;33m(\u001b[0m\u001b[0mtau_walk\u001b[0m\u001b[1;33m[\u001b[0m\u001b[0mi\u001b[0m\u001b[1;33m]\u001b[0m\u001b[1;33m,\u001b[0m \u001b[0mvel_walk\u001b[0m\u001b[1;33m[\u001b[0m\u001b[0mi\u001b[0m\u001b[1;33m]\u001b[0m\u001b[1;33m,\u001b[0m \u001b[0mangle_walk\u001b[0m\u001b[1;33m[\u001b[0m\u001b[0mi\u001b[0m\u001b[1;33m]\u001b[0m\u001b[1;33m)\u001b[0m\u001b[1;33m\u001b[0m\u001b[0m\n\u001b[0m\u001b[0;32m      9\u001b[0m     \u001b[0mx_prime\u001b[0m\u001b[1;33m,\u001b[0m \u001b[0my_prime\u001b[0m \u001b[1;33m=\u001b[0m \u001b[0mmy_model\u001b[0m\u001b[1;33m(\u001b[0m\u001b[0mtau_prime\u001b[0m\u001b[1;33m,\u001b[0m \u001b[0mvel_prime\u001b[0m\u001b[1;33m,\u001b[0m \u001b[0mangle_prime\u001b[0m\u001b[1;33m)\u001b[0m\u001b[1;33m\u001b[0m\u001b[0m\n\u001b[0;32m     10\u001b[0m \u001b[1;33m\u001b[0m\u001b[0m\n",
      "\u001b[1;32m<ipython-input-99-6f7558cc60ac>\u001b[0m in \u001b[0;36mmy_model\u001b[1;34m(tau, vel, angle)\u001b[0m\n\u001b[0;32m      5\u001b[0m     \u001b[0mget_ipython\u001b[0m\u001b[1;33m(\u001b[0m\u001b[1;33m)\u001b[0m\u001b[1;33m.\u001b[0m\u001b[0msystem\u001b[0m\u001b[1;33m(\u001b[0m\u001b[1;34mu'./analytic_solution.x > model.dat'\u001b[0m\u001b[1;33m)\u001b[0m\u001b[1;33m\u001b[0m\u001b[0m\n\u001b[0;32m      6\u001b[0m     \u001b[0mdata_m\u001b[0m \u001b[1;33m=\u001b[0m \u001b[0mnp\u001b[0m\u001b[1;33m.\u001b[0m\u001b[0mloadtxt\u001b[0m\u001b[1;33m(\u001b[0m\u001b[1;34m\"model.dat\"\u001b[0m\u001b[1;33m)\u001b[0m\u001b[1;33m\u001b[0m\u001b[0m\n\u001b[1;32m----> 7\u001b[1;33m     \u001b[0mx_teo\u001b[0m \u001b[1;33m=\u001b[0m \u001b[0mdata_m\u001b[0m\u001b[1;33m[\u001b[0m\u001b[1;36m6\u001b[0m\u001b[1;33m:\u001b[0m\u001b[1;33m-\u001b[0m\u001b[1;36m5\u001b[0m\u001b[1;33m,\u001b[0m\u001b[1;36m0\u001b[0m\u001b[1;33m]\u001b[0m\u001b[1;33m*\u001b[0m\u001b[1;36m12\u001b[0m\u001b[1;33m\u001b[0m\u001b[0m\n\u001b[0m\u001b[0;32m      8\u001b[0m     \u001b[0my_teo\u001b[0m \u001b[1;33m=\u001b[0m \u001b[0mdata_m\u001b[0m\u001b[1;33m[\u001b[0m\u001b[1;36m6\u001b[0m\u001b[1;33m:\u001b[0m\u001b[1;33m-\u001b[0m\u001b[1;36m5\u001b[0m\u001b[1;33m,\u001b[0m\u001b[1;36m1\u001b[0m\u001b[1;33m]\u001b[0m\u001b[1;33m\u001b[0m\u001b[0m\n\u001b[0;32m      9\u001b[0m     \u001b[1;32mreturn\u001b[0m \u001b[0mx_teo\u001b[0m\u001b[1;33m,\u001b[0m \u001b[0my_teo\u001b[0m\u001b[1;33m\u001b[0m\u001b[0m\n",
      "\u001b[1;31mIndexError\u001b[0m: too many indices"
     ]
    }
   ],
   "source": [
    "n_iterations = 20000 #this is the number of iterations I want to make\n",
    "for i in range(n_iterations):\n",
    "    tau_prime = np.random.normal(tau_walk[i], 1000) \n",
    "    vel_prime = np.random.normal(vel_walk[i], 5)\n",
    "    angle_prime = np.random.normal(angle_walk[i], 5)\n",
    "\n",
    "    \n",
    "    x_init, y_init = my_model(tau_walk[i], vel_walk[i], angle_walk[i])\n",
    "    x_prime, y_prime = my_model(tau_prime, vel_prime, angle_prime)\n",
    "    \n",
    "    l_prime = likelihood(y_0, y_prime)\n",
    "    l_init = likelihood(y_0, y_init)\n",
    "    \n",
    "    alpha = l_prime/l_init\n",
    "    if(alpha>=1.0):\n",
    "        tau_walk  = append(tau_walk,tau_prime)\n",
    "        vel_walk  = append(vel_walk,vel_prime)\n",
    "        angle_walk  = append(angle_walk,angle_prime)\n",
    "        l_walk = append(l_walk, l_prime)\n",
    "    else:\n",
    "        beta = random.random()\n",
    "        if(beta<=alpha):\n",
    "            tau_walk = append(tau_walk,tau_prime)\n",
    "            vel_walk = append(vel_walk,vel_prime)\n",
    "            angle_walk  = append(angle_walk,angle_prime)\n",
    "            l_walk = append(l_walk, l_prime)\n",
    "        else:\n",
    "            tau_walk = append(angle_walk,angle_walk[i])\n",
    "            vel_walk = append(vel_walk,vel_walk[i])\n",
    "            angle_walk = append(angle_walk,angle_walk[i])\n",
    "            l_walk = append(l_walk, l_init)"
   ]
  },
  {
   "cell_type": "code",
   "execution_count": 110,
   "metadata": {
    "collapsed": false
   },
   "outputs": [
    {
     "name": "stdout",
     "output_type": "stream",
     "text": [
      "-0.0234993169244\n",
      "96750.6614465\n",
      "67.5953066162\n",
      "27.7719026054\n"
     ]
    }
   ],
   "source": [
    "max_likelihood_id = argmax(l_walk)\n",
    "best_tau = tau_walk[max_likelihood_id]\n",
    "best_vel = vel_walk[max_likelihood_id]\n",
    "best_angle = angle_walk[max_likelihood_id]\n",
    "print log10(l_walk[max_likelihood_id])\n",
    "print best_tau\n",
    "print best_vel\n",
    "print best_angle"
   ]
  },
  {
   "cell_type": "code",
   "execution_count": 114,
   "metadata": {
    "collapsed": false
   },
   "outputs": [
    {
     "name": "stdout",
     "output_type": "stream",
     "text": [
      "# 96750.661447 67.595307 0.484711\r\n"
     ]
    },
    {
     "data": {
      "text/plain": [
       "[<matplotlib.lines.Line2D at 0x7f7b6ec6ebd0>]"
      ]
     },
     "execution_count": 114,
     "metadata": {},
     "output_type": "execute_result"
    },
    {
     "data": {
      "image/png": "[encoded data removed]",
      "text/plain": [
       "<matplotlib.figure.Figure at 0x7f7b6e791690>"
      ]
     },
     "metadata": {},
     "output_type": "display_data"
    }
   ],
   "source": [
    "best_x, best_y = my_model(best_tau, best_vel, best_angle)\n",
    "plot(x_0, y_0)\n",
    "plot(best_x, best_y)"
   ]
  },
  {
   "cell_type": "code",
   "execution_count": null,
   "metadata": {
    "collapsed": true
   },
   "outputs": [],
   "source": []
  }
 ],
 "metadata": {
  "kernelspec": {
   "display_name": "Python 2",
   "language": "python",
   "name": "python2"
  },
  "language_info": {
   "codemirror_mode": {
    "name": "ipython",
    "version": 2
   },
   "file_extension": ".py",
   "mimetype": "text/x-python",
   "name": "python",
   "nbconvert_exporter": "python",
   "pygments_lexer": "ipython2",
   "version": "2.7.6"
  }
 },
 "nbformat": 4,
 "nbformat_minor": 0
}
